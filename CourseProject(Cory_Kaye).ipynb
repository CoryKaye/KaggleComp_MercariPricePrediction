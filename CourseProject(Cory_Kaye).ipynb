{
  "nbformat": 4,
  "nbformat_minor": 0,
  "metadata": {
    "colab": {
      "name": "CourseProject(Cory Kaye).ipynb",
      "provenance": [],
      "collapsed_sections": []
    },
    "kernelspec": {
      "name": "python3",
      "display_name": "Python 3"
    },
    "accelerator": "TPU"
  },
  "cells": [
    {
      "cell_type": "markdown",
      "metadata": {
        "id": "9tWiqtJUmYWd"
      },
      "source": [
        "# Course Project: Mercari Price Predictions\n",
        "https://www.kaggle.com/c/mercari-price-suggestion-challenge/overview\n",
        "\n",
        "Name: Cory Kaye\n",
        "\n",
        "A#: A01806152"
      ]
    },
    {
      "cell_type": "code",
      "metadata": {
        "id": "xKyC5ljb7Uje"
      },
      "source": [
        "import pandas as pd\n",
        "import numpy as np\n",
        "import matplotlib.pyplot as plt\n",
        "import seaborn as sns\n",
        "import gc\n",
        "from scipy.sparse import vstack, hstack, csr_matrix\n",
        "from sklearn.feature_extraction.text import CountVectorizer, TfidfVectorizer\n",
        "from sklearn.preprocessing import LabelBinarizer\n",
        "from sklearn.linear_model import Ridge"
      ],
      "execution_count": 724,
      "outputs": []
    },
    {
      "cell_type": "markdown",
      "metadata": {
        "id": "1oFgN6crmuRJ"
      },
      "source": [
        "# Create datasets from files"
      ]
    },
    {
      "cell_type": "code",
      "metadata": {
        "colab": {
          "base_uri": "https://localhost:8080/",
          "height": 204
        },
        "id": "2iFfLaYZ7vPi",
        "outputId": "8b5b55e7-bb89-4e2a-8e96-1d9972997a8c"
      },
      "source": [
        "# Create training dataset\n",
        "train = pd.read_csv('train_medium.tsv', sep = '\\t') # The slimmed down version containing less records\n",
        "# train = pd.read_csv('train.tsv', sep = '\\t') # Full data\n",
        "train.head()"
      ],
      "execution_count": 725,
      "outputs": [
        {
          "output_type": "execute_result",
          "data": {
            "text/html": [
              "<div>\n",
              "<style scoped>\n",
              "    .dataframe tbody tr th:only-of-type {\n",
              "        vertical-align: middle;\n",
              "    }\n",
              "\n",
              "    .dataframe tbody tr th {\n",
              "        vertical-align: top;\n",
              "    }\n",
              "\n",
              "    .dataframe thead th {\n",
              "        text-align: right;\n",
              "    }\n",
              "</style>\n",
              "<table border=\"1\" class=\"dataframe\">\n",
              "  <thead>\n",
              "    <tr style=\"text-align: right;\">\n",
              "      <th></th>\n",
              "      <th>train_id</th>\n",
              "      <th>name</th>\n",
              "      <th>item_condition_id</th>\n",
              "      <th>category_name</th>\n",
              "      <th>brand_name</th>\n",
              "      <th>price</th>\n",
              "      <th>shipping</th>\n",
              "      <th>item_description</th>\n",
              "    </tr>\n",
              "  </thead>\n",
              "  <tbody>\n",
              "    <tr>\n",
              "      <th>0</th>\n",
              "      <td>0</td>\n",
              "      <td>MLB Cincinnati Reds T Shirt Size XL</td>\n",
              "      <td>3</td>\n",
              "      <td>Men/Tops/T-shirts</td>\n",
              "      <td>NaN</td>\n",
              "      <td>10.0</td>\n",
              "      <td>1</td>\n",
              "      <td>No description yet</td>\n",
              "    </tr>\n",
              "    <tr>\n",
              "      <th>1</th>\n",
              "      <td>1</td>\n",
              "      <td>Razer BlackWidow Chroma Keyboard</td>\n",
              "      <td>3</td>\n",
              "      <td>Electronics/Computers &amp; Tablets/Components &amp; P...</td>\n",
              "      <td>Razer</td>\n",
              "      <td>52.0</td>\n",
              "      <td>0</td>\n",
              "      <td>This keyboard is in great condition and works ...</td>\n",
              "    </tr>\n",
              "    <tr>\n",
              "      <th>2</th>\n",
              "      <td>2</td>\n",
              "      <td>AVA-VIV Blouse</td>\n",
              "      <td>1</td>\n",
              "      <td>Women/Tops &amp; Blouses/Blouse</td>\n",
              "      <td>Target</td>\n",
              "      <td>10.0</td>\n",
              "      <td>1</td>\n",
              "      <td>Adorable top with a hint of lace and a key hol...</td>\n",
              "    </tr>\n",
              "    <tr>\n",
              "      <th>3</th>\n",
              "      <td>3</td>\n",
              "      <td>Leather Horse Statues</td>\n",
              "      <td>1</td>\n",
              "      <td>Home/Home Décor/Home Décor Accents</td>\n",
              "      <td>NaN</td>\n",
              "      <td>35.0</td>\n",
              "      <td>1</td>\n",
              "      <td>New with tags. Leather horses. Retail for [rm]...</td>\n",
              "    </tr>\n",
              "    <tr>\n",
              "      <th>4</th>\n",
              "      <td>4</td>\n",
              "      <td>24K GOLD plated rose</td>\n",
              "      <td>1</td>\n",
              "      <td>Women/Jewelry/Necklaces</td>\n",
              "      <td>NaN</td>\n",
              "      <td>44.0</td>\n",
              "      <td>0</td>\n",
              "      <td>Complete with certificate of authenticity</td>\n",
              "    </tr>\n",
              "  </tbody>\n",
              "</table>\n",
              "</div>"
            ],
            "text/plain": [
              "   train_id  ...                                   item_description\n",
              "0         0  ...                                 No description yet\n",
              "1         1  ...  This keyboard is in great condition and works ...\n",
              "2         2  ...  Adorable top with a hint of lace and a key hol...\n",
              "3         3  ...  New with tags. Leather horses. Retail for [rm]...\n",
              "4         4  ...          Complete with certificate of authenticity\n",
              "\n",
              "[5 rows x 8 columns]"
            ]
          },
          "metadata": {
            "tags": []
          },
          "execution_count": 725
        }
      ]
    },
    {
      "cell_type": "code",
      "metadata": {
        "id": "lfeuRbFK85P4"
      },
      "source": [
        "# Create testing set\n",
        "test = pd.read_csv('test_small.tsv', sep = '\\t',engine = 'python') # The slimmed down version containing less records\n",
        "# test = pd.read_csv('test.tsv', sep = '\\t',engine = 'python') # Full data"
      ],
      "execution_count": 726,
      "outputs": []
    },
    {
      "cell_type": "code",
      "metadata": {
        "id": "S_oDz5799fLV"
      },
      "source": [
        "# Create y_price variable, log based\n",
        "y = np.log1p(train['price'])"
      ],
      "execution_count": 727,
      "outputs": []
    },
    {
      "cell_type": "code",
      "metadata": {
        "id": "FiT8KmIy9iym"
      },
      "source": [
        "# Create combined set, for preprocessing so we have all text data in one place\n",
        "combined = pd.concat([train,test])\n",
        "\n",
        "# Keep track of the training set size\n",
        "train_size = len(train)"
      ],
      "execution_count": 728,
      "outputs": []
    },
    {
      "cell_type": "code",
      "metadata": {
        "colab": {
          "base_uri": "https://localhost:8080/"
        },
        "id": "Gs6ndIs19ni0",
        "outputId": "d542621c-aa5c-46d2-93f3-cb780fa6ab40"
      },
      "source": [
        "combined.shape"
      ],
      "execution_count": 729,
      "outputs": [
        {
          "output_type": "execute_result",
          "data": {
            "text/plain": [
              "(7002, 9)"
            ]
          },
          "metadata": {
            "tags": []
          },
          "execution_count": 729
        }
      ]
    },
    {
      "cell_type": "markdown",
      "metadata": {
        "id": "YYbW22UMktyA"
      },
      "source": [
        "# Preprocess text data"
      ]
    },
    {
      "cell_type": "code",
      "metadata": {
        "colab": {
          "base_uri": "https://localhost:8080/"
        },
        "id": "-Ar7Qo5a99it",
        "outputId": "87aa9f9a-e01a-4039-bff9-a9de48838af8"
      },
      "source": [
        "## Functions used to clean/normalize text data\n",
        "\n",
        "from string import punctuation\n",
        "# Use the built in list of punctions provided by string\n",
        "punctuation_symbols = []\n",
        "for symbol in punctuation:\n",
        "    punctuation_symbols.append((symbol, '')) # create our string array\n",
        "\n",
        "# Remove digits\n",
        "def remove_digits(x):\n",
        "    x = ''.join([i for i in x if not i.isdigit()])\n",
        "    return x\n",
        "\n",
        "# remove punctuations\n",
        "import string\n",
        "def remove_punctuation(sentence: str) -> str:\n",
        "    return sentence.translate(str.maketrans('', '', string.punctuation))\n",
        "\n",
        "# Removing stopwords\n",
        "# !pip install nltk\n",
        "import nltk\n",
        "nltk.download('stopwords')\n",
        "from nltk.corpus import stopwords\n",
        "\n",
        "stop = stopwords.words('english')\n",
        "\n",
        "def remove_stop_words(x):\n",
        "    x = ' '.join([i for i in x.lower().split(' ') if i not in stop])\n",
        "    return x\n",
        "\n",
        "def to_lower(x):\n",
        "    return x.lower()"
      ],
      "execution_count": 730,
      "outputs": [
        {
          "output_type": "stream",
          "text": [
            "[nltk_data] Downloading package stopwords to /root/nltk_data...\n",
            "[nltk_data]   Package stopwords is already up-to-date!\n"
          ],
          "name": "stdout"
        }
      ]
    },
    {
      "cell_type": "markdown",
      "metadata": {
        "id": "ADCmhvpC7vEa"
      },
      "source": [
        "Split category_name into separate categories"
      ]
    },
    {
      "cell_type": "code",
      "metadata": {
        "colab": {
          "base_uri": "https://localhost:8080/",
          "height": 289
        },
        "id": "ojqKtlRs_MEh",
        "outputId": "67c4bbfe-0bb7-408b-a8e7-6e0c49693556"
      },
      "source": [
        "def split_category_data(category_name):\n",
        "    try:\n",
        "        main, s1, s2 = category_name.split('/')\n",
        "        return main, s1, s2\n",
        "    except:\n",
        "        return np.nan, np.nan, np.nan\n",
        "\n",
        "def split_and_add_subcat_data(dataset):\n",
        "    dataset['category_main'], dataset['category_sub1'], dataset['category_sub2'] = zip(*dataset['category_name'].apply(split_category_data))\n",
        "\n",
        "split_and_add_subcat_data(train)\n",
        "split_and_add_subcat_data(test)\n",
        "\n",
        "train.head()"
      ],
      "execution_count": 731,
      "outputs": [
        {
          "output_type": "execute_result",
          "data": {
            "text/html": [
              "<div>\n",
              "<style scoped>\n",
              "    .dataframe tbody tr th:only-of-type {\n",
              "        vertical-align: middle;\n",
              "    }\n",
              "\n",
              "    .dataframe tbody tr th {\n",
              "        vertical-align: top;\n",
              "    }\n",
              "\n",
              "    .dataframe thead th {\n",
              "        text-align: right;\n",
              "    }\n",
              "</style>\n",
              "<table border=\"1\" class=\"dataframe\">\n",
              "  <thead>\n",
              "    <tr style=\"text-align: right;\">\n",
              "      <th></th>\n",
              "      <th>train_id</th>\n",
              "      <th>name</th>\n",
              "      <th>item_condition_id</th>\n",
              "      <th>category_name</th>\n",
              "      <th>brand_name</th>\n",
              "      <th>price</th>\n",
              "      <th>shipping</th>\n",
              "      <th>item_description</th>\n",
              "      <th>category_main</th>\n",
              "      <th>category_sub1</th>\n",
              "      <th>category_sub2</th>\n",
              "    </tr>\n",
              "  </thead>\n",
              "  <tbody>\n",
              "    <tr>\n",
              "      <th>0</th>\n",
              "      <td>0</td>\n",
              "      <td>MLB Cincinnati Reds T Shirt Size XL</td>\n",
              "      <td>3</td>\n",
              "      <td>Men/Tops/T-shirts</td>\n",
              "      <td>NaN</td>\n",
              "      <td>10.0</td>\n",
              "      <td>1</td>\n",
              "      <td>No description yet</td>\n",
              "      <td>Men</td>\n",
              "      <td>Tops</td>\n",
              "      <td>T-shirts</td>\n",
              "    </tr>\n",
              "    <tr>\n",
              "      <th>1</th>\n",
              "      <td>1</td>\n",
              "      <td>Razer BlackWidow Chroma Keyboard</td>\n",
              "      <td>3</td>\n",
              "      <td>Electronics/Computers &amp; Tablets/Components &amp; P...</td>\n",
              "      <td>Razer</td>\n",
              "      <td>52.0</td>\n",
              "      <td>0</td>\n",
              "      <td>This keyboard is in great condition and works ...</td>\n",
              "      <td>Electronics</td>\n",
              "      <td>Computers &amp; Tablets</td>\n",
              "      <td>Components &amp; Parts</td>\n",
              "    </tr>\n",
              "    <tr>\n",
              "      <th>2</th>\n",
              "      <td>2</td>\n",
              "      <td>AVA-VIV Blouse</td>\n",
              "      <td>1</td>\n",
              "      <td>Women/Tops &amp; Blouses/Blouse</td>\n",
              "      <td>Target</td>\n",
              "      <td>10.0</td>\n",
              "      <td>1</td>\n",
              "      <td>Adorable top with a hint of lace and a key hol...</td>\n",
              "      <td>Women</td>\n",
              "      <td>Tops &amp; Blouses</td>\n",
              "      <td>Blouse</td>\n",
              "    </tr>\n",
              "    <tr>\n",
              "      <th>3</th>\n",
              "      <td>3</td>\n",
              "      <td>Leather Horse Statues</td>\n",
              "      <td>1</td>\n",
              "      <td>Home/Home Décor/Home Décor Accents</td>\n",
              "      <td>NaN</td>\n",
              "      <td>35.0</td>\n",
              "      <td>1</td>\n",
              "      <td>New with tags. Leather horses. Retail for [rm]...</td>\n",
              "      <td>Home</td>\n",
              "      <td>Home Décor</td>\n",
              "      <td>Home Décor Accents</td>\n",
              "    </tr>\n",
              "    <tr>\n",
              "      <th>4</th>\n",
              "      <td>4</td>\n",
              "      <td>24K GOLD plated rose</td>\n",
              "      <td>1</td>\n",
              "      <td>Women/Jewelry/Necklaces</td>\n",
              "      <td>NaN</td>\n",
              "      <td>44.0</td>\n",
              "      <td>0</td>\n",
              "      <td>Complete with certificate of authenticity</td>\n",
              "      <td>Women</td>\n",
              "      <td>Jewelry</td>\n",
              "      <td>Necklaces</td>\n",
              "    </tr>\n",
              "  </tbody>\n",
              "</table>\n",
              "</div>"
            ],
            "text/plain": [
              "   train_id  ...       category_sub2\n",
              "0         0  ...            T-shirts\n",
              "1         1  ...  Components & Parts\n",
              "2         2  ...              Blouse\n",
              "3         3  ...  Home Décor Accents\n",
              "4         4  ...           Necklaces\n",
              "\n",
              "[5 rows x 11 columns]"
            ]
          },
          "metadata": {
            "tags": []
          },
          "execution_count": 731
        }
      ]
    },
    {
      "cell_type": "code",
      "metadata": {
        "id": "kUyg0Q5M1Yd0"
      },
      "source": [
        "split_and_add_subcat_data(combined)"
      ],
      "execution_count": 732,
      "outputs": []
    },
    {
      "cell_type": "code",
      "metadata": {
        "colab": {
          "base_uri": "https://localhost:8080/",
          "height": 289
        },
        "id": "sA_elhfc__-E",
        "outputId": "b6143ab4-cfd4-42d0-b3ae-9f266409138c"
      },
      "source": [
        "combined.head()"
      ],
      "execution_count": 733,
      "outputs": [
        {
          "output_type": "execute_result",
          "data": {
            "text/html": [
              "<div>\n",
              "<style scoped>\n",
              "    .dataframe tbody tr th:only-of-type {\n",
              "        vertical-align: middle;\n",
              "    }\n",
              "\n",
              "    .dataframe tbody tr th {\n",
              "        vertical-align: top;\n",
              "    }\n",
              "\n",
              "    .dataframe thead th {\n",
              "        text-align: right;\n",
              "    }\n",
              "</style>\n",
              "<table border=\"1\" class=\"dataframe\">\n",
              "  <thead>\n",
              "    <tr style=\"text-align: right;\">\n",
              "      <th></th>\n",
              "      <th>train_id</th>\n",
              "      <th>name</th>\n",
              "      <th>item_condition_id</th>\n",
              "      <th>category_name</th>\n",
              "      <th>brand_name</th>\n",
              "      <th>price</th>\n",
              "      <th>shipping</th>\n",
              "      <th>item_description</th>\n",
              "      <th>test_id</th>\n",
              "      <th>category_main</th>\n",
              "      <th>category_sub1</th>\n",
              "      <th>category_sub2</th>\n",
              "    </tr>\n",
              "  </thead>\n",
              "  <tbody>\n",
              "    <tr>\n",
              "      <th>0</th>\n",
              "      <td>0.0</td>\n",
              "      <td>MLB Cincinnati Reds T Shirt Size XL</td>\n",
              "      <td>3</td>\n",
              "      <td>Men/Tops/T-shirts</td>\n",
              "      <td>NaN</td>\n",
              "      <td>10.0</td>\n",
              "      <td>1</td>\n",
              "      <td>No description yet</td>\n",
              "      <td>NaN</td>\n",
              "      <td>Men</td>\n",
              "      <td>Tops</td>\n",
              "      <td>T-shirts</td>\n",
              "    </tr>\n",
              "    <tr>\n",
              "      <th>1</th>\n",
              "      <td>1.0</td>\n",
              "      <td>Razer BlackWidow Chroma Keyboard</td>\n",
              "      <td>3</td>\n",
              "      <td>Electronics/Computers &amp; Tablets/Components &amp; P...</td>\n",
              "      <td>Razer</td>\n",
              "      <td>52.0</td>\n",
              "      <td>0</td>\n",
              "      <td>This keyboard is in great condition and works ...</td>\n",
              "      <td>NaN</td>\n",
              "      <td>Electronics</td>\n",
              "      <td>Computers &amp; Tablets</td>\n",
              "      <td>Components &amp; Parts</td>\n",
              "    </tr>\n",
              "    <tr>\n",
              "      <th>2</th>\n",
              "      <td>2.0</td>\n",
              "      <td>AVA-VIV Blouse</td>\n",
              "      <td>1</td>\n",
              "      <td>Women/Tops &amp; Blouses/Blouse</td>\n",
              "      <td>Target</td>\n",
              "      <td>10.0</td>\n",
              "      <td>1</td>\n",
              "      <td>Adorable top with a hint of lace and a key hol...</td>\n",
              "      <td>NaN</td>\n",
              "      <td>Women</td>\n",
              "      <td>Tops &amp; Blouses</td>\n",
              "      <td>Blouse</td>\n",
              "    </tr>\n",
              "    <tr>\n",
              "      <th>3</th>\n",
              "      <td>3.0</td>\n",
              "      <td>Leather Horse Statues</td>\n",
              "      <td>1</td>\n",
              "      <td>Home/Home Décor/Home Décor Accents</td>\n",
              "      <td>NaN</td>\n",
              "      <td>35.0</td>\n",
              "      <td>1</td>\n",
              "      <td>New with tags. Leather horses. Retail for [rm]...</td>\n",
              "      <td>NaN</td>\n",
              "      <td>Home</td>\n",
              "      <td>Home Décor</td>\n",
              "      <td>Home Décor Accents</td>\n",
              "    </tr>\n",
              "    <tr>\n",
              "      <th>4</th>\n",
              "      <td>4.0</td>\n",
              "      <td>24K GOLD plated rose</td>\n",
              "      <td>1</td>\n",
              "      <td>Women/Jewelry/Necklaces</td>\n",
              "      <td>NaN</td>\n",
              "      <td>44.0</td>\n",
              "      <td>0</td>\n",
              "      <td>Complete with certificate of authenticity</td>\n",
              "      <td>NaN</td>\n",
              "      <td>Women</td>\n",
              "      <td>Jewelry</td>\n",
              "      <td>Necklaces</td>\n",
              "    </tr>\n",
              "  </tbody>\n",
              "</table>\n",
              "</div>"
            ],
            "text/plain": [
              "   train_id  ...       category_sub2\n",
              "0       0.0  ...            T-shirts\n",
              "1       1.0  ...  Components & Parts\n",
              "2       2.0  ...              Blouse\n",
              "3       3.0  ...  Home Décor Accents\n",
              "4       4.0  ...           Necklaces\n",
              "\n",
              "[5 rows x 12 columns]"
            ]
          },
          "metadata": {
            "tags": []
          },
          "execution_count": 733
        }
      ]
    },
    {
      "cell_type": "code",
      "metadata": {
        "id": "O9jyXRHBAVBs"
      },
      "source": [
        "# handle_missing_values\n",
        "def handle_missing_values(dataset):\n",
        "    dataset['category_name'].fillna(value='missing', inplace=True)\n",
        "    dataset['category_main'].fillna(value='missing', inplace=True)\n",
        "    dataset['category_sub1'].fillna(value='missing', inplace=True)\n",
        "    dataset['category_sub2'].fillna(value='missing', inplace=True)\n",
        "    dataset['brand_name'].fillna(value='None', inplace=True)\n",
        "    dataset['item_description'].fillna(value='None', inplace=True)"
      ],
      "execution_count": 734,
      "outputs": []
    },
    {
      "cell_type": "code",
      "metadata": {
        "id": "qwV5LWqgAVoF"
      },
      "source": [
        "# converting to make sure they are categorical data\n",
        "def to_categorical(dataset):\n",
        "    dataset['brand_name'] = dataset['brand_name'].astype('category')\n",
        "    dataset['category_name'] = dataset['category_name'].astype('category')\n",
        "    dataset['category_main'] = dataset['category_main'].astype('category')\n",
        "    dataset['category_sub1'] = dataset['category_sub1'].astype('category')\n",
        "    dataset['category_sub2'] = dataset['category_sub2'].astype('category')\n",
        "    dataset['item_condition_id'] = dataset['item_condition_id'].astype('category')"
      ],
      "execution_count": 735,
      "outputs": []
    },
    {
      "cell_type": "markdown",
      "metadata": {
        "id": "uXCewVL6AaR0"
      },
      "source": [
        "Begin Preprocessing"
      ]
    },
    {
      "cell_type": "code",
      "metadata": {
        "colab": {
          "base_uri": "https://localhost:8080/",
          "height": 289
        },
        "id": "8M3cf4xNAZxs",
        "outputId": "cc2d15bf-1af4-4ac7-a603-6e970a3732ba"
      },
      "source": [
        "handle_missing_values(combined)\n",
        "to_categorical(combined)\n",
        "combined.head()"
      ],
      "execution_count": 736,
      "outputs": [
        {
          "output_type": "execute_result",
          "data": {
            "text/html": [
              "<div>\n",
              "<style scoped>\n",
              "    .dataframe tbody tr th:only-of-type {\n",
              "        vertical-align: middle;\n",
              "    }\n",
              "\n",
              "    .dataframe tbody tr th {\n",
              "        vertical-align: top;\n",
              "    }\n",
              "\n",
              "    .dataframe thead th {\n",
              "        text-align: right;\n",
              "    }\n",
              "</style>\n",
              "<table border=\"1\" class=\"dataframe\">\n",
              "  <thead>\n",
              "    <tr style=\"text-align: right;\">\n",
              "      <th></th>\n",
              "      <th>train_id</th>\n",
              "      <th>name</th>\n",
              "      <th>item_condition_id</th>\n",
              "      <th>category_name</th>\n",
              "      <th>brand_name</th>\n",
              "      <th>price</th>\n",
              "      <th>shipping</th>\n",
              "      <th>item_description</th>\n",
              "      <th>test_id</th>\n",
              "      <th>category_main</th>\n",
              "      <th>category_sub1</th>\n",
              "      <th>category_sub2</th>\n",
              "    </tr>\n",
              "  </thead>\n",
              "  <tbody>\n",
              "    <tr>\n",
              "      <th>0</th>\n",
              "      <td>0.0</td>\n",
              "      <td>MLB Cincinnati Reds T Shirt Size XL</td>\n",
              "      <td>3</td>\n",
              "      <td>Men/Tops/T-shirts</td>\n",
              "      <td>None</td>\n",
              "      <td>10.0</td>\n",
              "      <td>1</td>\n",
              "      <td>No description yet</td>\n",
              "      <td>NaN</td>\n",
              "      <td>Men</td>\n",
              "      <td>Tops</td>\n",
              "      <td>T-shirts</td>\n",
              "    </tr>\n",
              "    <tr>\n",
              "      <th>1</th>\n",
              "      <td>1.0</td>\n",
              "      <td>Razer BlackWidow Chroma Keyboard</td>\n",
              "      <td>3</td>\n",
              "      <td>Electronics/Computers &amp; Tablets/Components &amp; P...</td>\n",
              "      <td>Razer</td>\n",
              "      <td>52.0</td>\n",
              "      <td>0</td>\n",
              "      <td>This keyboard is in great condition and works ...</td>\n",
              "      <td>NaN</td>\n",
              "      <td>Electronics</td>\n",
              "      <td>Computers &amp; Tablets</td>\n",
              "      <td>Components &amp; Parts</td>\n",
              "    </tr>\n",
              "    <tr>\n",
              "      <th>2</th>\n",
              "      <td>2.0</td>\n",
              "      <td>AVA-VIV Blouse</td>\n",
              "      <td>1</td>\n",
              "      <td>Women/Tops &amp; Blouses/Blouse</td>\n",
              "      <td>Target</td>\n",
              "      <td>10.0</td>\n",
              "      <td>1</td>\n",
              "      <td>Adorable top with a hint of lace and a key hol...</td>\n",
              "      <td>NaN</td>\n",
              "      <td>Women</td>\n",
              "      <td>Tops &amp; Blouses</td>\n",
              "      <td>Blouse</td>\n",
              "    </tr>\n",
              "    <tr>\n",
              "      <th>3</th>\n",
              "      <td>3.0</td>\n",
              "      <td>Leather Horse Statues</td>\n",
              "      <td>1</td>\n",
              "      <td>Home/Home Décor/Home Décor Accents</td>\n",
              "      <td>None</td>\n",
              "      <td>35.0</td>\n",
              "      <td>1</td>\n",
              "      <td>New with tags. Leather horses. Retail for [rm]...</td>\n",
              "      <td>NaN</td>\n",
              "      <td>Home</td>\n",
              "      <td>Home Décor</td>\n",
              "      <td>Home Décor Accents</td>\n",
              "    </tr>\n",
              "    <tr>\n",
              "      <th>4</th>\n",
              "      <td>4.0</td>\n",
              "      <td>24K GOLD plated rose</td>\n",
              "      <td>1</td>\n",
              "      <td>Women/Jewelry/Necklaces</td>\n",
              "      <td>None</td>\n",
              "      <td>44.0</td>\n",
              "      <td>0</td>\n",
              "      <td>Complete with certificate of authenticity</td>\n",
              "      <td>NaN</td>\n",
              "      <td>Women</td>\n",
              "      <td>Jewelry</td>\n",
              "      <td>Necklaces</td>\n",
              "    </tr>\n",
              "  </tbody>\n",
              "</table>\n",
              "</div>"
            ],
            "text/plain": [
              "   train_id  ...       category_sub2\n",
              "0       0.0  ...            T-shirts\n",
              "1       1.0  ...  Components & Parts\n",
              "2       2.0  ...              Blouse\n",
              "3       3.0  ...  Home Décor Accents\n",
              "4       4.0  ...           Necklaces\n",
              "\n",
              "[5 rows x 12 columns]"
            ]
          },
          "metadata": {
            "tags": []
          },
          "execution_count": 736
        }
      ]
    },
    {
      "cell_type": "code",
      "metadata": {
        "colab": {
          "base_uri": "https://localhost:8080/",
          "height": 193
        },
        "id": "Fr_rxBvKAqFS",
        "outputId": "9f66cc07-a43a-40b8-c009-a4148438e718"
      },
      "source": [
        "def clean_and_standardize(dataset, column_name):\n",
        "    dataset[column_name] = dataset[column_name].apply(remove_digits)\n",
        "    dataset[column_name] = dataset[column_name].apply(remove_punctuation)\n",
        "    dataset[column_name] = dataset[column_name].apply(remove_stop_words)\n",
        "    dataset[column_name] = dataset[column_name].apply(to_lower)\n",
        "\n",
        "def process_and_standardize_data(dataset):\n",
        "    dataset.item_description = dataset.item_description.astype(str)\n",
        "\n",
        "    clean_and_standardize(dataset, 'item_description')\n",
        "    clean_and_standardize(dataset, 'name')\n",
        "    clean_and_standardize(dataset, 'category_main')\n",
        "    clean_and_standardize(dataset, 'category_sub1')\n",
        "    clean_and_standardize(dataset, 'category_sub2')\n",
        "\n",
        "process_and_standardize_data(combined)\n",
        "\n",
        "combined.head(3)"
      ],
      "execution_count": 737,
      "outputs": [
        {
          "output_type": "execute_result",
          "data": {
            "text/html": [
              "<div>\n",
              "<style scoped>\n",
              "    .dataframe tbody tr th:only-of-type {\n",
              "        vertical-align: middle;\n",
              "    }\n",
              "\n",
              "    .dataframe tbody tr th {\n",
              "        vertical-align: top;\n",
              "    }\n",
              "\n",
              "    .dataframe thead th {\n",
              "        text-align: right;\n",
              "    }\n",
              "</style>\n",
              "<table border=\"1\" class=\"dataframe\">\n",
              "  <thead>\n",
              "    <tr style=\"text-align: right;\">\n",
              "      <th></th>\n",
              "      <th>train_id</th>\n",
              "      <th>name</th>\n",
              "      <th>item_condition_id</th>\n",
              "      <th>category_name</th>\n",
              "      <th>brand_name</th>\n",
              "      <th>price</th>\n",
              "      <th>shipping</th>\n",
              "      <th>item_description</th>\n",
              "      <th>test_id</th>\n",
              "      <th>category_main</th>\n",
              "      <th>category_sub1</th>\n",
              "      <th>category_sub2</th>\n",
              "    </tr>\n",
              "  </thead>\n",
              "  <tbody>\n",
              "    <tr>\n",
              "      <th>0</th>\n",
              "      <td>0.0</td>\n",
              "      <td>mlb cincinnati reds shirt size xl</td>\n",
              "      <td>3</td>\n",
              "      <td>Men/Tops/T-shirts</td>\n",
              "      <td>None</td>\n",
              "      <td>10.0</td>\n",
              "      <td>1</td>\n",
              "      <td>description yet</td>\n",
              "      <td>NaN</td>\n",
              "      <td>men</td>\n",
              "      <td>tops</td>\n",
              "      <td>tshirts</td>\n",
              "    </tr>\n",
              "    <tr>\n",
              "      <th>1</th>\n",
              "      <td>1.0</td>\n",
              "      <td>razer blackwidow chroma keyboard</td>\n",
              "      <td>3</td>\n",
              "      <td>Electronics/Computers &amp; Tablets/Components &amp; P...</td>\n",
              "      <td>Razer</td>\n",
              "      <td>52.0</td>\n",
              "      <td>0</td>\n",
              "      <td>keyboard great condition works like came box p...</td>\n",
              "      <td>NaN</td>\n",
              "      <td>electronics</td>\n",
              "      <td>computers  tablets</td>\n",
              "      <td>components  parts</td>\n",
              "    </tr>\n",
              "    <tr>\n",
              "      <th>2</th>\n",
              "      <td>2.0</td>\n",
              "      <td>avaviv blouse</td>\n",
              "      <td>1</td>\n",
              "      <td>Women/Tops &amp; Blouses/Blouse</td>\n",
              "      <td>Target</td>\n",
              "      <td>10.0</td>\n",
              "      <td>1</td>\n",
              "      <td>adorable top hint lace key hole back pale pink...</td>\n",
              "      <td>NaN</td>\n",
              "      <td>women</td>\n",
              "      <td>tops  blouses</td>\n",
              "      <td>blouse</td>\n",
              "    </tr>\n",
              "  </tbody>\n",
              "</table>\n",
              "</div>"
            ],
            "text/plain": [
              "   train_id  ...      category_sub2\n",
              "0       0.0  ...            tshirts\n",
              "1       1.0  ...  components  parts\n",
              "2       2.0  ...             blouse\n",
              "\n",
              "[3 rows x 12 columns]"
            ]
          },
          "metadata": {
            "tags": []
          },
          "execution_count": 737
        }
      ]
    },
    {
      "cell_type": "code",
      "metadata": {
        "id": "RDzafKRsChtz"
      },
      "source": [
        "# Create the transform, for known words\n",
        "cv = CountVectorizer(min_df=10)\n",
        "\n",
        "# tokenize and create the vocabulary\n",
        "X_train_name = cv.fit_transform(combined['name'])"
      ],
      "execution_count": 738,
      "outputs": []
    },
    {
      "cell_type": "code",
      "metadata": {
        "id": "822c2O37Cj0B"
      },
      "source": [
        "# Create the transform, for known words\n",
        "cv = CountVectorizer()\n",
        "\n",
        "# tokenize and create vocbularies for each\n",
        "X_train_category = cv.fit_transform(combined['category_name'])\n",
        "X_train_category_main = cv.fit_transform(combined['category_main'])\n",
        "X_train_category_sub1 = cv.fit_transform(combined['category_sub1'])\n",
        "X_train_category_sub2 = cv.fit_transform(combined['category_sub2'])"
      ],
      "execution_count": 739,
      "outputs": []
    },
    {
      "cell_type": "code",
      "metadata": {
        "id": "GsbSAho8CljM"
      },
      "source": [
        "# Create the transform, tfid better for non-known words that may happen\n",
        "tv = TfidfVectorizer(max_features=55000, ngram_range=(1, 2), stop_words='english')\n",
        "\n",
        "# tokenize and create the vocabular\n",
        "X_train_description = tv.fit_transform(combined['item_description'])"
      ],
      "execution_count": 740,
      "outputs": []
    },
    {
      "cell_type": "code",
      "metadata": {
        "id": "8Efwf6lNCmuG"
      },
      "source": [
        "# better to use as we are only using a singular column\n",
        "lb = LabelBinarizer(sparse_output=True)\n",
        "X_train_brand = lb.fit_transform(combined['brand_name'])"
      ],
      "execution_count": 741,
      "outputs": []
    },
    {
      "cell_type": "markdown",
      "metadata": {
        "id": "bCzjnd7nCqRz"
      },
      "source": [
        "Create CSR Matrix"
      ]
    },
    {
      "cell_type": "code",
      "metadata": {
        "id": "ehyLGjiSComT"
      },
      "source": [
        "# sparse_matrix for \"better\" array storage\n",
        "X_train_dummies = csr_matrix(pd.get_dummies(combined[['item_condition_id', 'shipping']], sparse=True).values)\n",
        "\n",
        "# add rest of categorics to sparse_matrix\n",
        "sparse_merge = hstack((X_train_dummies, X_train_description, X_train_brand, X_train_category, X_train_category_main, X_train_category_sub1, X_train_category_sub2, X_train_name)).tocsr()"
      ],
      "execution_count": 742,
      "outputs": []
    },
    {
      "cell_type": "markdown",
      "metadata": {
        "id": "hmvp58-2kPeH"
      },
      "source": [
        ""
      ]
    },
    {
      "cell_type": "markdown",
      "metadata": {
        "id": "DW_xtkbJEVRt"
      },
      "source": [
        "Split data into training data and test data"
      ]
    },
    {
      "cell_type": "code",
      "metadata": {
        "id": "PVWX6OKSEVuP"
      },
      "source": [
        "X_train_sparse = sparse_merge[:train_size]\n",
        "\n",
        "X_test = sparse_merge[train_size:]"
      ],
      "execution_count": 743,
      "outputs": []
    },
    {
      "cell_type": "code",
      "metadata": {
        "colab": {
          "base_uri": "https://localhost:8080/"
        },
        "id": "DfEKKvXiEcHm",
        "outputId": "93337ab9-ab87-4f28-dfe0-6fbdc841a556"
      },
      "source": [
        "combined.columns"
      ],
      "execution_count": 744,
      "outputs": [
        {
          "output_type": "execute_result",
          "data": {
            "text/plain": [
              "Index(['train_id', 'name', 'item_condition_id', 'category_name', 'brand_name',\n",
              "       'price', 'shipping', 'item_description', 'test_id', 'category_main',\n",
              "       'category_sub1', 'category_sub2'],\n",
              "      dtype='object')"
            ]
          },
          "metadata": {
            "tags": []
          },
          "execution_count": 744
        }
      ]
    },
    {
      "cell_type": "markdown",
      "metadata": {
        "id": "SWfBqYwFE_WM"
      },
      "source": [
        "K-Fold Cross Validation"
      ]
    },
    {
      "cell_type": "code",
      "metadata": {
        "id": "uSjEN7fDE_u8",
        "colab": {
          "base_uri": "https://localhost:8080/"
        },
        "outputId": "aae68dfd-0063-448a-9663-45303eb3b1ab"
      },
      "source": [
        "from sklearn.model_selection import KFold\n",
        "kf = KFold(len(y))\n",
        "\n",
        "for train_index, valid_index in kf.split(X_train_sparse):\n",
        "    X_train, y_train = X_train_sparse[train_index], y[train_index]\n",
        "    X_valid, y_valid = X_train_sparse[valid_index], y[valid_index]\n",
        "\n",
        "X_train #so many elements even with a much smaller dataset"
      ],
      "execution_count": 745,
      "outputs": [
        {
          "output_type": "execute_result",
          "data": {
            "text/plain": [
              "<5000x57382 sparse matrix of type '<class 'numpy.float64'>'\n",
              "\twith 183236 stored elements in Compressed Sparse Row format>"
            ]
          },
          "metadata": {
            "tags": []
          },
          "execution_count": 745
        }
      ]
    },
    {
      "cell_type": "markdown",
      "metadata": {
        "id": "XQG4koYRYnLu"
      },
      "source": [
        "RMSLE Function"
      ]
    },
    {
      "cell_type": "code",
      "metadata": {
        "id": "7LL-soMiYpi0"
      },
      "source": [
        "def rmsle(y, y0):\n",
        "    return np.sqrt(np.mean(np.power(np.log1p(y) - np.log1p(y0), 2)))"
      ],
      "execution_count": 746,
      "outputs": []
    },
    {
      "cell_type": "markdown",
      "metadata": {
        "id": "Ko-rAdS2Yr8M"
      },
      "source": [
        "# Make, Train, Eval Models"
      ]
    },
    {
      "cell_type": "code",
      "metadata": {
        "id": "tjSJuSJPYuA8"
      },
      "source": [
        "import lightgbm as lgb\n",
        "d_train = lgb.Dataset(X_train, label=y_train)\n",
        "boosting_iterations = 128"
      ],
      "execution_count": 747,
      "outputs": []
    },
    {
      "cell_type": "markdown",
      "metadata": {
        "id": "Za8IlMLC7PzM"
      },
      "source": [
        "Training, Predicting Validation, and Evaluating Test_Data with a GBDT Model"
      ]
    },
    {
      "cell_type": "code",
      "metadata": {
        "colab": {
          "base_uri": "https://localhost:8080/"
        },
        "id": "E9pb_HY760U9",
        "outputId": "6d93e37a-ba3e-483c-b8cd-86e8d3f33349"
      },
      "source": [
        "params = {}\n",
        "params['learning_rate'] = 0.003\n",
        "params['boosting_type'] = 'gbdt' # The main model\n",
        "params['metric'] = 'rmse'\n",
        "\n",
        "# Train the Model\n",
        "gbdt_model = lgb.train(params, d_train, boosting_iterations)\n",
        "\n",
        "# Predict using validation set\n",
        "gbdt_pred = gbdt_model.predict(X_valid)\n",
        "# convert predicted values back from log'd values\n",
        "np.expm1(gbdt_pred)\n",
        "# print RMSLE loss\n",
        "print(\"RMSLE Loss: \" + str(rmse(np.expm1(y_valid), np.expm1(gbdt_pred))))\n",
        "\n",
        "# Predict using never before seen test data\n",
        "gbdt_pred_final = gbdt_model.predict(X_test)\n",
        "gbdt_pred_final = np.expm1(gbdt_pred_final)"
      ],
      "execution_count": 748,
      "outputs": [
        {
          "output_type": "stream",
          "text": [
            "RMSLE Loss: 0.13405511040060203\n"
          ],
          "name": "stdout"
        }
      ]
    },
    {
      "cell_type": "markdown",
      "metadata": {
        "id": "FLPMhne89lhZ"
      },
      "source": [
        "Training, Predicting Validation, and Evaluating Test_Data with a DART Model"
      ]
    },
    {
      "cell_type": "code",
      "metadata": {
        "colab": {
          "base_uri": "https://localhost:8080/"
        },
        "id": "OK062s-r9nYg",
        "outputId": "42e6a6c3-d3ca-4f98-f36e-01f705059b1c"
      },
      "source": [
        "params = {}\n",
        "params['learning_rate'] = 0.003\n",
        "params['boosting_type'] = 'dart' # The main model\n",
        "params['objective'] = 'regression'\n",
        "params['metric'] = 'rmse'\n",
        "params['drop_rate'] = 0.01\n",
        "\n",
        "# Train the Model\n",
        "dart_model = lgb.train(params, d_train, boosting_iterations)\n",
        "\n",
        "# Predict using validation set\n",
        "dart_pred = dart_model.predict(X_valid)\n",
        "# convert predicted values back from log'd values\n",
        "np.expm1(dart_pred)\n",
        "# print RMSLE loss\n",
        "print(\"RMSLE Loss: \" + str(rmse(np.expm1(y_valid), np.expm1(dart_pred))))\n",
        "\n",
        "# Predict using never before seen test data\n",
        "dart_pred_final = dart_model.predict(X_test)\n",
        "dart_pred_final = np.expm1(dart_pred_final)"
      ],
      "execution_count": 749,
      "outputs": [
        {
          "output_type": "stream",
          "text": [
            "RMSLE Loss: 0.14624846166347494\n"
          ],
          "name": "stdout"
        }
      ]
    },
    {
      "cell_type": "code",
      "metadata": {
        "id": "hsiB4fO3avCA",
        "colab": {
          "base_uri": "https://localhost:8080/"
        },
        "outputId": "bf01678c-354b-4238-f535-8e30ebb23575"
      },
      "source": [
        "# Create our submission dataset\n",
        "submission = test[['test_id']]\n",
        "submission[\"price\"] = np.expm1(gbdt_pred_final)\n",
        "submission.to_csv(\"submission.csv\", index = False)\n",
        "print(submission)"
      ],
      "execution_count": 750,
      "outputs": [
        {
          "output_type": "stream",
          "text": [
            "      test_id         price\n",
            "0           0  8.597185e+06\n",
            "1           1  1.211809e+07\n",
            "2           2  5.762090e+07\n",
            "3           3  8.611751e+07\n",
            "4           4  8.597185e+06\n",
            "...       ...           ...\n",
            "1996     1996  7.110148e+06\n",
            "1997     1997  3.049059e+07\n",
            "1998     1998  1.162063e+08\n",
            "1999     1999  9.331794e+08\n",
            "2000     2000  8.597185e+06\n",
            "\n",
            "[2001 rows x 2 columns]\n"
          ],
          "name": "stdout"
        },
        {
          "output_type": "stream",
          "text": [
            "/usr/local/lib/python3.6/dist-packages/ipykernel_launcher.py:3: SettingWithCopyWarning: \n",
            "A value is trying to be set on a copy of a slice from a DataFrame.\n",
            "Try using .loc[row_indexer,col_indexer] = value instead\n",
            "\n",
            "See the caveats in the documentation: https://pandas.pydata.org/pandas-docs/stable/user_guide/indexing.html#returning-a-view-versus-a-copy\n",
            "  This is separate from the ipykernel package so we can avoid doing imports until\n"
          ],
          "name": "stderr"
        }
      ]
    },
    {
      "cell_type": "markdown",
      "metadata": {
        "id": "u15BkdkHl5b7"
      },
      "source": [
        "plot to show difference in predictions"
      ]
    },
    {
      "cell_type": "code",
      "metadata": {
        "colab": {
          "base_uri": "https://localhost:8080/",
          "height": 299
        },
        "id": "hTGxVy38Y8Gl",
        "outputId": "1b453f20-67d7-4da6-f28d-0aca8e83b4a9"
      },
      "source": [
        "import matplotlib.pyplot as plt\n",
        "\n",
        "plt.figure(figsize=(10,4))\n",
        "fig = plt.figure()\n",
        "ax1 = fig.add_subplot(111)\n",
        "ax1.plot(gbdt_pred_final[:30], label = 'GBDT')\n",
        "ax1.plot(dart_pred_final[:30], label = 'GOSS')\n",
        "\n",
        "plt.legend(loc='upper left');\n",
        "plt.show()\n",
        "plt.savefig('plot.png', format='png')"
      ],
      "execution_count": 751,
      "outputs": [
        {
          "output_type": "display_data",
          "data": {
            "text/plain": [
              "<Figure size 720x288 with 0 Axes>"
            ]
          },
          "metadata": {
            "tags": []
          }
        },
        {
          "output_type": "display_data",
          "data": {
            "image/png": "[encoded data removed]",
            "text/plain": [
              "<Figure size 432x288 with 1 Axes>"
            ]
          },
          "metadata": {
            "tags": [],
            "needs_background": "light"
          }
        },
        {
          "output_type": "display_data",
          "data": {
            "text/plain": [
              "<Figure size 432x288 with 0 Axes>"
            ]
          },
          "metadata": {
            "tags": []
          }
        }
      ]
    },
    {
      "cell_type": "markdown",
      "metadata": {
        "id": "un87pYSzfciv"
      },
      "source": [
        "Check total mean variance between two models"
      ]
    },
    {
      "cell_type": "code",
      "metadata": {
        "colab": {
          "base_uri": "https://localhost:8080/"
        },
        "id": "FqxJViSOfdFC",
        "outputId": "1bf1f553-2e21-4b6c-ae14-770aecafba0a"
      },
      "source": [
        "from statistics import mean\n",
        "mean(abs(x - y) for x, y in zip(gbdt_pred_final, dart_pred_final))"
      ],
      "execution_count": 752,
      "outputs": [
        {
          "output_type": "execute_result",
          "data": {
            "text/plain": [
              "0.34097980125167054"
            ]
          },
          "metadata": {
            "tags": []
          },
          "execution_count": 752
        }
      ]
    },
    {
      "cell_type": "markdown",
      "metadata": {
        "id": "xDsgDb5dl1y0"
      },
      "source": [
        ""
      ]
    }
  ]
}